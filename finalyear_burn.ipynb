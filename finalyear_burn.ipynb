{
  "nbformat": 4,
  "nbformat_minor": 0,
  "metadata": {
    "colab": {
      "provenance": [],
      "gpuType": "T4",
      "authorship_tag": "ABX9TyOcowyjhEffht3wIs40T7K+",
      "include_colab_link": true
    },
    "kernelspec": {
      "name": "python3",
      "display_name": "Python 3"
    },
    "language_info": {
      "name": "python"
    },
    "accelerator": "GPU"
  },
  "cells": [
    {
      "cell_type": "markdown",
      "metadata": {
        "id": "view-in-github",
        "colab_type": "text"
      },
      "source": [
        "<a href=\"https://colab.research.google.com/github/maryamsalman28/Final-Year-Project--First-Aid-App/blob/main/finalyear_burn.ipynb\" target=\"_parent\"><img src=\"https://colab.research.google.com/assets/colab-badge.svg\" alt=\"Open In Colab\"/></a>"
      ]
    },
    {
      "cell_type": "code",
      "source": [
        "# --- HARD RESET OF ENV STACK (no imports in this cell) ---\n",
        "\n",
        "# 1) Wipe caches and conflicting packages\n",
        "!pip -q uninstall -y torch torchvision torchaudio pillow numpy opencv-python opencv-python-headless opencv-contrib-python >/dev/null\n",
        "!pip -q cache purge\n",
        "\n",
        "# 2) Upgrade pip to avoid old resolver edge-cases\n",
        "!python -m pip -q install --upgrade pip\n",
        "\n",
        "# 3) Install PyTorch (CUDA 11.8 build works on CPU too)\n",
        "!pip -q install torch==2.2.0 torchvision==0.17.0 torchaudio==2.2.0 --index-url https://download.pytorch.org/whl/cu118\n",
        "\n",
        "# 4) Install core, version-pinned libs (use --no-deps to stop resolver tug-of-war)\n",
        "!pip -q install --no-deps numpy==1.26.4\n",
        "!pip -q install --no-deps Pillow==10.3.0\n",
        "!pip -q install --no-deps opencv-python-headless==4.9.0.80\n",
        "\n",
        "# 5) Utility libs (these don’t fight NumPy/Pillow)\n",
        "!pip -q install matplotlib==3.8.4 scikit-learn==1.4.2 tqdm==4.66.4\n",
        "\n",
        "# IMPORTANT: Do not import anything yet.\n",
        "print(\"Installed. Now do: Runtime -> Restart runtime, then run the next cell.\")\n"
      ],
      "metadata": {
        "colab": {
          "base_uri": "https://localhost:8080/"
        },
        "id": "5u4z5X_7aH4W",
        "outputId": "59d49ba1-87ae-4991-c415-d093898b3232"
      },
      "execution_count": null,
      "outputs": [
        {
          "output_type": "stream",
          "name": "stdout",
          "text": [
            "\u001b[33mWARNING: No matching packages\u001b[0m\u001b[33m\n",
            "\u001b[2K   \u001b[90m━━━━━━━━━━━━━━━━━━━━━━━━━━━━━━━━━━━━━━━━\u001b[0m \u001b[32m1.8/1.8 MB\u001b[0m \u001b[31m23.8 MB/s\u001b[0m eta \u001b[36m0:00:00\u001b[0m\n",
            "\u001b[?25h\u001b[31mERROR: pip's dependency resolver does not currently take into account all the packages that are installed. This behaviour is the source of the following dependency conflicts.\n",
            "fastai 2.7.19 requires pillow>=9.0.0, which is not installed.\n",
            "fastai 2.7.19 requires torch<2.7,>=1.10, which is not installed.\n",
            "fastai 2.7.19 requires torchvision>=0.11, which is not installed.\u001b[0m\u001b[31m\n",
            "\u001b[0m\u001b[31mERROR: pip's dependency resolver does not currently take into account all the packages that are installed. This behaviour is the source of the following dependency conflicts.\n",
            "albucore 0.0.24 requires opencv-python-headless>=4.9.0.80, which is not installed.\n",
            "dopamine-rl 4.1.2 requires opencv-python>=3.4.8.29, which is not installed.\n",
            "albumentations 2.0.8 requires opencv-python-headless>=4.9.0.80, which is not installed.\n",
            "numba 0.60.0 requires numpy<2.1,>=1.22, but you have numpy 2.1.2 which is incompatible.\u001b[0m\u001b[31m\n",
            "\u001b[0m\u001b[31mERROR: pip's dependency resolver does not currently take into account all the packages that are installed. This behaviour is the source of the following dependency conflicts.\n",
            "dopamine-rl 4.1.2 requires opencv-python>=3.4.8.29, which is not installed.\n",
            "umap-learn 0.5.9.post2 requires scikit-learn>=1.6, but you have scikit-learn 1.4.2 which is incompatible.\n",
            "dataproc-spark-connect 0.8.3 requires tqdm>=4.67, but you have tqdm 4.66.4 which is incompatible.\n",
            "cuml-cu12 25.6.0 requires scikit-learn>=1.5, but you have scikit-learn 1.4.2 which is incompatible.\u001b[0m\u001b[31m\n",
            "\u001b[0mInstalled. Now do: Runtime -> Restart runtime, then run the next cell.\n"
          ]
        }
      ]
    },
    {
      "cell_type": "code",
      "source": [
        "# Import only after the runtime restart to avoid mixed-wheel issues\n",
        "import numpy as np\n",
        "import cv2\n",
        "from PIL import Image, ImageFile\n",
        "ImageFile.LOAD_TRUNCATED_IMAGES = True  # guards against partially-downloaded images\n",
        "\n",
        "import torch, torchvision\n",
        "\n",
        "print(\"Torch:\", torch.__version__, \"| Torchvision:\", torchvision.__version__)\n",
        "print(\"CUDA available:\", torch.cuda.is_available())\n",
        "print(\"NumPy:\", np.__version__, \"| Pillow:\", Image.__version__, \"| OpenCV:\", cv2.__version__)\n"
      ],
      "metadata": {
        "colab": {
          "base_uri": "https://localhost:8080/"
        },
        "id": "csyteGpfcrTh",
        "outputId": "220331a5-5647-4b34-fc5a-133737e59f79"
      },
      "execution_count": null,
      "outputs": [
        {
          "output_type": "stream",
          "name": "stdout",
          "text": [
            "Torch: 2.2.0+cu118 | Torchvision: 0.17.0+cu118\n",
            "CUDA available: True\n",
            "NumPy: 1.26.4 | Pillow: 10.3.0 | OpenCV: 4.9.0\n"
          ]
        }
      ]
    },
    {
      "cell_type": "code",
      "source": [
        "from google.colab import drive\n",
        "drive.mount('/content/drive')\n",
        "\n",
        "PROJECT_NAME = \"finalyear_burn\"\n",
        "\n",
        "# Your RAW dataset must contain 3 subfolders:\n",
        "# \"1st degree burn\", \"2nd degree burn\", \"3rd degree burn\"\n",
        "RAW_DATA_DIR = \"/content/drive/MyDrive/burn_dataset_raw\"  # <-- change if needed\n",
        "\n",
        "WORK_DIR = f\"/content/{PROJECT_NAME}\"\n",
        "MODEL_DIR = f\"{WORK_DIR}/models\"\n",
        "PROCESSED_DATA_DIR = f\"{WORK_DIR}/burn_dataset\"  # we will write train/val/test here\n",
        "\n",
        "import os\n",
        "os.makedirs(MODEL_DIR, exist_ok=True)\n",
        "os.makedirs(PROCESSED_DATA_DIR, exist_ok=True)\n",
        "\n",
        "print(\"WORK_DIR:\", WORK_DIR)\n",
        "print(\"RAW_DATA_DIR:\", RAW_DATA_DIR)\n",
        "print(\"PROCESSED_DATA_DIR:\", PROCESSED_DATA_DIR)\n",
        "print(\"MODEL_DIR:\", MODEL_DIR)\n"
      ],
      "metadata": {
        "colab": {
          "base_uri": "https://localhost:8080/"
        },
        "id": "RSPlI2J7cyUZ",
        "outputId": "b376cd15-cdf3-4b93-935b-c592f921b7c7"
      },
      "execution_count": null,
      "outputs": [
        {
          "output_type": "stream",
          "name": "stdout",
          "text": [
            "Drive already mounted at /content/drive; to attempt to forcibly remount, call drive.mount(\"/content/drive\", force_remount=True).\n",
            "WORK_DIR: /content/finalyear_burn\n",
            "RAW_DATA_DIR: /content/drive/MyDrive/burn_dataset_raw\n",
            "PROCESSED_DATA_DIR: /content/finalyear_burn/burn_dataset\n",
            "MODEL_DIR: /content/finalyear_burn/models\n"
          ]
        }
      ]
    },
    {
      "cell_type": "code",
      "source": [
        "import os, shutil, random\n",
        "from glob import glob\n",
        "from PIL import Image, UnidentifiedImageError, ImageFile\n",
        "ImageFile.LOAD_TRUNCATED_IMAGES = True\n",
        "\n",
        "random.seed(42)\n",
        "\n",
        "SRC = RAW_DATA_DIR\n",
        "DST = PROCESSED_DATA_DIR\n",
        "splits = ['train','val','test']\n",
        "classes = ['1st degree burn','2nd degree burn','3rd degree burn']\n",
        "\n",
        "#  target folders\n",
        "for s in splits:\n",
        "    for cls in classes:\n",
        "        os.makedirs(os.path.join(DST, s, cls), exist_ok=True)\n",
        "\n",
        "def valid_image(path):\n",
        "    try:\n",
        "        with Image.open(path) as im:\n",
        "            im.verify()\n",
        "        return True\n",
        "    except (UnidentifiedImageError, OSError):\n",
        "        return False\n",
        "\n",
        "def split_copy_one_class(class_name, train_ratio=0.7, val_ratio=0.15):\n",
        "    files = glob(os.path.join(SRC, class_name, '*'))\n",
        "    files = [f for f in files if os.path.isfile(f) and valid_image(f)]\n",
        "    random.shuffle(files)\n",
        "    n = len(files)\n",
        "    n_train = int(n*train_ratio)\n",
        "    n_val = int(n*val_ratio)\n",
        "    train_files = files[:n_train]\n",
        "    val_files   = files[n_train:n_train+n_val]\n",
        "    test_files  = files[n_train+n_val:]\n",
        "\n",
        "    def cp(fs, split_name):\n",
        "        for f in fs:\n",
        "            shutil.copy2(f, os.path.join(DST, split_name, class_name, os.path.basename(f)))\n",
        "\n",
        "    cp(train_files, 'train')\n",
        "    cp(val_files, 'val')\n",
        "    cp(test_files, 'test')\n",
        "    return len(train_files), len(val_files), len(test_files)\n",
        "\n",
        "totals = {cls: split_copy_one_class(cls) for cls in classes}\n",
        "totals\n"
      ],
      "metadata": {
        "colab": {
          "base_uri": "https://localhost:8080/"
        },
        "id": "hrLTfl1Lc-dx",
        "outputId": "bf972dcc-617f-4cb3-c8c4-697d6d6eb313"
      },
      "execution_count": null,
      "outputs": [
        {
          "output_type": "execute_result",
          "data": {
            "text/plain": [
              "{'1st degree burn': (739, 158, 159),\n",
              " '2nd degree burn': (684, 146, 148),\n",
              " '3rd degree burn': (357, 76, 77)}"
            ]
          },
          "metadata": {},
          "execution_count": 2
        }
      ]
    },
    {
      "cell_type": "code",
      "source": [
        "import os\n",
        "import torch\n",
        "from torchvision import transforms, datasets\n",
        "from torch.utils.data import DataLoader\n",
        "\n",
        "IMG_SIZE = 224\n",
        "BATCH_SIZE = 32\n",
        "\n",
        "# Use PILToTensor + ConvertImageDtype to avoid ToTensor's NumPy path\n",
        "train_tfms = transforms.Compose([\n",
        "    transforms.Resize((IMG_SIZE, IMG_SIZE)),\n",
        "    transforms.RandomHorizontalFlip(p=0.5),\n",
        "    transforms.RandomRotation(degrees=10),\n",
        "    transforms.ColorJitter(brightness=0.15, contrast=0.15),\n",
        "    transforms.PILToTensor(),\n",
        "    transforms.ConvertImageDtype(torch.float32),\n",
        "    transforms.Normalize(mean=[0.485,0.456,0.406],\n",
        "                         std=[0.229,0.224,0.225]),\n",
        "])\n",
        "\n",
        "eval_tfms = transforms.Compose([\n",
        "    transforms.Resize((IMG_SIZE, IMG_SIZE)),\n",
        "    transforms.PILToTensor(),\n",
        "    transforms.ConvertImageDtype(torch.float32),\n",
        "    transforms.Normalize(mean=[0.485,0.456,0.406],\n",
        "                         std=[0.229,0.224,0.225]),\n",
        "])\n",
        "\n",
        "train_ds = datasets.ImageFolder(os.path.join(PROCESSED_DATA_DIR,'train'), transform=train_tfms)\n",
        "val_ds   = datasets.ImageFolder(os.path.join(PROCESSED_DATA_DIR,'val'),   transform=eval_tfms)\n",
        "test_ds  = datasets.ImageFolder(os.path.join(PROCESSED_DATA_DIR,'test'),  transform=eval_tfms)\n",
        "\n",
        "class_names = train_ds.classes\n",
        "print(\"Classes:\", class_names)\n",
        "\n",
        "# Keep workers at 0 to avoid multiprocessing import issues in Colab\n",
        "train_loader = DataLoader(train_ds, batch_size=BATCH_SIZE, shuffle=True,  num_workers=0, pin_memory=False)\n",
        "val_loader   = DataLoader(val_ds,   batch_size=BATCH_SIZE, shuffle=False, num_workers=0, pin_memory=False)\n",
        "test_loader  = DataLoader(test_ds,  batch_size=BATCH_SIZE, shuffle=False, num_workers=0, pin_memory=False)\n",
        "\n",
        "print(f\"Train images: {len(train_ds)} | Val images: {len(val_ds)} | Test images: {len(test_ds)}\")\n"
      ],
      "metadata": {
        "colab": {
          "base_uri": "https://localhost:8080/"
        },
        "id": "iSGnlqPmdTei",
        "outputId": "6fb7bd65-d727-4a13-ac4c-ee81db2da205"
      },
      "execution_count": null,
      "outputs": [
        {
          "output_type": "stream",
          "name": "stdout",
          "text": [
            "Classes: ['1st degree burn', '2nd degree burn', '3rd degree burn']\n",
            "Train images: 1780 | Val images: 380 | Test images: 384\n"
          ]
        }
      ]
    },
    {
      "cell_type": "code",
      "source": [
        "from PIL import Image\n",
        "from torchvision import transforms as T\n",
        "\n",
        "assert len(train_ds) > 0, \"Train set is empty. Check RAW_DATA_DIR and folder names.\"\n",
        "sample_path = train_ds.samples[0][0]\n",
        "img = Image.open(sample_path).convert('RGB')\n",
        "t = T.Compose([T.PILToTensor(), T.ConvertImageDtype(torch.float32)])(img)\n",
        "print(\"OK. Tensor shape:\", t.shape, \"dtype:\", t.dtype, \"min/max:\", float(t.min()), float(t.max()))\n"
      ],
      "metadata": {
        "colab": {
          "base_uri": "https://localhost:8080/"
        },
        "id": "HsUgB0sVdXW0",
        "outputId": "0eccc552-a9e3-4e67-920b-b8c2dda6c7cf"
      },
      "execution_count": null,
      "outputs": [
        {
          "output_type": "stream",
          "name": "stdout",
          "text": [
            "OK. Tensor shape: torch.Size([3, 408, 612]) dtype: torch.float32 min/max: 0.027450980618596077 0.8313725590705872\n"
          ]
        }
      ]
    },
    {
      "cell_type": "code",
      "source": [
        "from collections import Counter\n",
        "import torch\n",
        "\n",
        "targets = [y for _, y in train_ds.samples]\n",
        "counts = Counter(targets)\n",
        "num_samples = sum(counts.values())\n",
        "class_count = [counts[i] for i in range(len(class_names))]\n",
        "class_weights = [num_samples/c for c in class_count]\n",
        "class_weights = torch.tensor(class_weights, dtype=torch.float32)\n",
        "\n",
        "device = torch.device('cuda' if torch.cuda.is_available() else 'cpu')\n",
        "class_weights = class_weights.to(device)\n",
        "\n",
        "print(\"Class counts:\", dict(counts))\n",
        "print(\"Class weights:\", class_weights)\n"
      ],
      "metadata": {
        "colab": {
          "base_uri": "https://localhost:8080/"
        },
        "id": "h2QugV3tdbhW",
        "outputId": "7be9600e-48f9-4d82-f975-d86425c96bc2"
      },
      "execution_count": null,
      "outputs": [
        {
          "output_type": "stream",
          "name": "stdout",
          "text": [
            "Class counts: {0: 739, 1: 684, 2: 357}\n",
            "Class weights: tensor([2.4087, 2.6023, 4.9860], device='cuda:0')\n"
          ]
        }
      ]
    },
    {
      "cell_type": "code",
      "source": [
        "import torch.nn as nn\n",
        "import torchvision.models as models\n",
        "\n",
        "device = torch.device('cuda' if torch.cuda.is_available() else 'cpu')\n",
        "\n",
        "model = models.mobilenet_v2(weights=models.MobileNet_V2_Weights.IMAGENET1K_V1)\n",
        "in_features = model.classifier[1].in_features\n",
        "model.classifier[1] = nn.Linear(in_features, 3)  # 3 classes\n",
        "model = model.to(device)\n",
        "\n",
        "# Fine-tune all layers\n",
        "for p in model.features.parameters():\n",
        "    p.requires_grad = True\n",
        "\n",
        "criterion = nn.CrossEntropyLoss(weight=class_weights)  # drop weight=... if classes are balanced\n",
        "optimizer = torch.optim.Adam(model.parameters(), lr=1e-4)\n",
        "scheduler = torch.optim.lr_scheduler.StepLR(optimizer, step_size=5, gamma=0.5)\n",
        "\n",
        "print(\"Model ready on:\", device)\n"
      ],
      "metadata": {
        "colab": {
          "base_uri": "https://localhost:8080/"
        },
        "id": "MS-NMci4dc9y",
        "outputId": "a994afda-f1c1-41b7-8154-72bdf503f30c"
      },
      "execution_count": null,
      "outputs": [
        {
          "output_type": "stream",
          "name": "stderr",
          "text": [
            "Downloading: \"https://download.pytorch.org/models/mobilenet_v2-b0353104.pth\" to /root/.cache/torch/hub/checkpoints/mobilenet_v2-b0353104.pth\n",
            "100%|██████████| 13.6M/13.6M [00:00<00:00, 92.6MB/s]\n"
          ]
        },
        {
          "output_type": "stream",
          "name": "stdout",
          "text": [
            "Model ready on: cuda\n"
          ]
        }
      ]
    },
    {
      "cell_type": "code",
      "source": [
        "from tqdm import tqdm\n",
        "import torch\n",
        "\n",
        "def run_epoch(loader, train_mode=True):\n",
        "    model.train() if train_mode else model.eval()\n",
        "    total, correct, running_loss = 0, 0, 0.0\n",
        "    for imgs, labels in tqdm(loader, disable=False):\n",
        "        imgs, labels = imgs.to(device), labels.to(device)\n",
        "\n",
        "        if train_mode:\n",
        "            optimizer.zero_grad()\n",
        "\n",
        "        with torch.set_grad_enabled(train_mode):\n",
        "            outputs = model(imgs)\n",
        "            loss = criterion(outputs, labels)\n",
        "            if train_mode:\n",
        "                loss.backward()\n",
        "                optimizer.step()\n",
        "\n",
        "        running_loss += loss.item() * imgs.size(0)\n",
        "        preds = outputs.argmax(dim=1)\n",
        "        correct += (preds == labels).sum().item()\n",
        "        total += labels.size(0)\n",
        "\n",
        "    return running_loss / total, correct / total\n",
        "\n",
        "EPOCHS = 12\n",
        "best_val_acc = 0.0\n",
        "best_path = f\"{MODEL_DIR}/mobilenetv2_burn_best.pth\"\n",
        "\n",
        "for epoch in range(1, EPOCHS+1):\n",
        "    tr_loss, tr_acc = run_epoch(train_loader, True)\n",
        "    va_loss, va_acc = run_epoch(val_loader, False)\n",
        "    scheduler.step()\n",
        "    print(f\"Epoch {epoch}: train loss {tr_loss:.4f} acc {tr_acc:.4f} | val loss {va_loss:.4f} acc {va_acc:.4f}\")\n",
        "    if va_acc > best_val_acc:\n",
        "        best_val_acc = va_acc\n",
        "        torch.save(model.state_dict(), best_path)\n",
        "        print(\"Saved new best model.\")\n",
        "print(\"Best val acc:\", best_val_acc)\n"
      ],
      "metadata": {
        "colab": {
          "base_uri": "https://localhost:8080/"
        },
        "id": "memcTEEAdgF4",
        "outputId": "80038f23-38a1-413e-e0c1-9e19a4a95eff"
      },
      "execution_count": null,
      "outputs": [
        {
          "output_type": "stream",
          "name": "stderr",
          "text": [
            "100%|██████████| 56/56 [00:21<00:00,  2.63it/s]\n",
            "100%|██████████| 12/12 [00:02<00:00,  5.85it/s]\n"
          ]
        },
        {
          "output_type": "stream",
          "name": "stdout",
          "text": [
            "Epoch 1: train loss 0.7848 acc 0.6264 | val loss 0.6920 acc 0.7105\n",
            "Saved new best model.\n"
          ]
        },
        {
          "output_type": "stream",
          "name": "stderr",
          "text": [
            "100%|██████████| 56/56 [00:19<00:00,  2.82it/s]\n",
            "100%|██████████| 12/12 [00:02<00:00,  5.06it/s]\n"
          ]
        },
        {
          "output_type": "stream",
          "name": "stdout",
          "text": [
            "Epoch 2: train loss 0.5309 acc 0.7725 | val loss 0.5933 acc 0.7526\n",
            "Saved new best model.\n"
          ]
        },
        {
          "output_type": "stream",
          "name": "stderr",
          "text": [
            "100%|██████████| 56/56 [00:20<00:00,  2.78it/s]\n",
            "100%|██████████| 12/12 [00:02<00:00,  5.81it/s]\n"
          ]
        },
        {
          "output_type": "stream",
          "name": "stdout",
          "text": [
            "Epoch 3: train loss 0.4283 acc 0.8258 | val loss 0.5529 acc 0.7842\n",
            "Saved new best model.\n"
          ]
        },
        {
          "output_type": "stream",
          "name": "stderr",
          "text": [
            "100%|██████████| 56/56 [00:21<00:00,  2.66it/s]\n",
            "100%|██████████| 12/12 [00:02<00:00,  4.25it/s]\n"
          ]
        },
        {
          "output_type": "stream",
          "name": "stdout",
          "text": [
            "Epoch 4: train loss 0.3318 acc 0.8702 | val loss 0.5380 acc 0.7947\n",
            "Saved new best model.\n"
          ]
        },
        {
          "output_type": "stream",
          "name": "stderr",
          "text": [
            "100%|██████████| 56/56 [00:20<00:00,  2.77it/s]\n",
            "100%|██████████| 12/12 [00:02<00:00,  4.46it/s]\n"
          ]
        },
        {
          "output_type": "stream",
          "name": "stdout",
          "text": [
            "Epoch 5: train loss 0.2933 acc 0.8876 | val loss 0.5788 acc 0.7842\n"
          ]
        },
        {
          "output_type": "stream",
          "name": "stderr",
          "text": [
            "100%|██████████| 56/56 [00:19<00:00,  2.82it/s]\n",
            "100%|██████████| 12/12 [00:01<00:00,  6.02it/s]\n"
          ]
        },
        {
          "output_type": "stream",
          "name": "stdout",
          "text": [
            "Epoch 6: train loss 0.2358 acc 0.9039 | val loss 0.4825 acc 0.8237\n",
            "Saved new best model.\n"
          ]
        },
        {
          "output_type": "stream",
          "name": "stderr",
          "text": [
            "100%|██████████| 56/56 [00:20<00:00,  2.67it/s]\n",
            "100%|██████████| 12/12 [00:02<00:00,  5.76it/s]\n"
          ]
        },
        {
          "output_type": "stream",
          "name": "stdout",
          "text": [
            "Epoch 7: train loss 0.1922 acc 0.9303 | val loss 0.5298 acc 0.8132\n"
          ]
        },
        {
          "output_type": "stream",
          "name": "stderr",
          "text": [
            "100%|██████████| 56/56 [00:20<00:00,  2.68it/s]\n",
            "100%|██████████| 12/12 [00:02<00:00,  5.87it/s]\n"
          ]
        },
        {
          "output_type": "stream",
          "name": "stdout",
          "text": [
            "Epoch 8: train loss 0.1958 acc 0.9253 | val loss 0.5125 acc 0.8237\n"
          ]
        },
        {
          "output_type": "stream",
          "name": "stderr",
          "text": [
            "100%|██████████| 56/56 [00:19<00:00,  2.83it/s]\n",
            "100%|██████████| 12/12 [00:02<00:00,  4.53it/s]\n"
          ]
        },
        {
          "output_type": "stream",
          "name": "stdout",
          "text": [
            "Epoch 9: train loss 0.1695 acc 0.9376 | val loss 0.5034 acc 0.8421\n",
            "Saved new best model.\n"
          ]
        },
        {
          "output_type": "stream",
          "name": "stderr",
          "text": [
            "100%|██████████| 56/56 [00:20<00:00,  2.74it/s]\n",
            "100%|██████████| 12/12 [00:02<00:00,  4.12it/s]\n"
          ]
        },
        {
          "output_type": "stream",
          "name": "stdout",
          "text": [
            "Epoch 10: train loss 0.1733 acc 0.9320 | val loss 0.5607 acc 0.8237\n"
          ]
        },
        {
          "output_type": "stream",
          "name": "stderr",
          "text": [
            "100%|██████████| 56/56 [00:20<00:00,  2.70it/s]\n",
            "100%|██████████| 12/12 [00:02<00:00,  5.60it/s]\n"
          ]
        },
        {
          "output_type": "stream",
          "name": "stdout",
          "text": [
            "Epoch 11: train loss 0.1514 acc 0.9354 | val loss 0.5228 acc 0.8211\n"
          ]
        },
        {
          "output_type": "stream",
          "name": "stderr",
          "text": [
            "100%|██████████| 56/56 [00:19<00:00,  2.83it/s]\n",
            "100%|██████████| 12/12 [00:02<00:00,  4.07it/s]"
          ]
        },
        {
          "output_type": "stream",
          "name": "stdout",
          "text": [
            "Epoch 12: train loss 0.1452 acc 0.9360 | val loss 0.5478 acc 0.8184\n",
            "Best val acc: 0.8421052631578947\n"
          ]
        },
        {
          "output_type": "stream",
          "name": "stderr",
          "text": [
            "\n"
          ]
        }
      ]
    },
    {
      "cell_type": "code",
      "source": [
        "import numpy as np\n",
        "from sklearn.metrics import classification_report, confusion_matrix\n",
        "import matplotlib.pyplot as plt\n",
        "import torch\n",
        "\n",
        "# Load best weights\n",
        "model.load_state_dict(torch.load(best_path, map_location=device))\n",
        "model.eval()\n",
        "\n",
        "all_preds, all_labels = [], []\n",
        "test_loss, test_correct, total = 0.0, 0, 0\n",
        "\n",
        "with torch.no_grad():\n",
        "    for imgs, labels in tqdm(test_loader):\n",
        "        imgs, labels = imgs.to(device), labels.to(device)\n",
        "        outputs = model(imgs)\n",
        "        loss = criterion(outputs, labels)\n",
        "        test_loss += loss.item() * imgs.size(0)\n",
        "        preds = outputs.argmax(dim=1)\n",
        "        test_correct += (preds == labels).sum().item()\n",
        "        total += labels.size(0)\n",
        "        all_preds.extend(preds.cpu().numpy().tolist())\n",
        "        all_labels.extend(labels.cpu().numpy().tolist())\n",
        "\n",
        "test_loss /= total\n",
        "test_acc = test_correct / total\n",
        "print(f\"Test loss: {test_loss:.4f} | Test accuracy: {test_acc:.4f}\")\n",
        "print(classification_report(all_labels, all_preds, target_names=class_names))\n",
        "\n",
        "cm = confusion_matrix(all_labels, all_preds)\n",
        "fig, ax = plt.subplots(figsize=(5,5))\n",
        "im = ax.imshow(cm, cmap='Blues')\n",
        "ax.figure.colorbar(im, ax=ax, fraction=0.046, pad=0.04)\n",
        "ax.set_title(\"Confusion Matrix\")\n",
        "ax.set_xlabel(\"Predicted\"); ax.set_ylabel(\"True\")\n",
        "ax.set_xticks(range(len(class_names))); ax.set_yticks(range(len(class_names)))\n",
        "ax.set_xticklabels(class_names, rotation=45, ha='right'); ax.set_yticklabels(class_names)\n",
        "\n",
        "# Annotate counts\n",
        "for i in range(cm.shape[0]):\n",
        "    for j in range(cm.shape[1]):\n",
        "        ax.text(j, i, cm[i, j], ha='center', va='center', color='black', fontsize=10)\n",
        "\n",
        "plt.tight_layout()\n",
        "plt.show()\n"
      ],
      "metadata": {
        "colab": {
          "base_uri": "https://localhost:8080/",
          "height": 652
        },
        "id": "n_V6eXRde2Jv",
        "outputId": "cc140fd9-1606-44b1-c707-0b92293b355e"
      },
      "execution_count": null,
      "outputs": [
        {
          "output_type": "stream",
          "name": "stderr",
          "text": [
            "100%|██████████| 12/12 [00:04<00:00,  2.77it/s]\n"
          ]
        },
        {
          "output_type": "stream",
          "name": "stdout",
          "text": [
            "Test loss: 0.5566 | Test accuracy: 0.8021\n",
            "                 precision    recall  f1-score   support\n",
            "\n",
            "1st degree burn       0.79      0.89      0.84       159\n",
            "2nd degree burn       0.80      0.72      0.76       148\n",
            "3rd degree burn       0.83      0.78      0.81        77\n",
            "\n",
            "       accuracy                           0.80       384\n",
            "      macro avg       0.81      0.80      0.80       384\n",
            "   weighted avg       0.80      0.80      0.80       384\n",
            "\n"
          ]
        },
        {
          "output_type": "display_data",
          "data": {
            "text/plain": [
              "<Figure size 500x500 with 2 Axes>"
            ],
            "image/png": "[encoded data removed]"
          },
          "metadata": {}
        }
      ]
    },
    {
      "cell_type": "code",
      "source": [
        "# --- 1) Resolve best_path (checkpoint) ---\n",
        "from pathlib import Path\n",
        "import glob, os\n",
        "\n",
        "# If you already defined MODEL_DIR earlier, keep it. Otherwise uncomment the next line:\n",
        "# MODEL_DIR = \"/content/finalyear_burn/models\"\n",
        "\n",
        "candidates = [\n",
        "    Path(MODEL_DIR) / \"mobilenetv2_burn_best.pth\",\n",
        "    Path(\"/content/drive/MyDrive/finalyear_burn_models/mobilenetv2_burn_best.pth\"),\n",
        "]\n",
        "\n",
        "best_path = None\n",
        "for p in candidates:\n",
        "    if p.exists():\n",
        "        best_path = p\n",
        "        break\n",
        "\n",
        "if best_path is None:\n",
        "    hits = glob.glob(\"/content/**/*best*.pth\", recursive=True) + \\\n",
        "           glob.glob(\"/content/drive/**/*best*.pth\", recursive=True)\n",
        "    print(\"Could not find mobilenetv2_burn_best.pth at expected locations.\")\n",
        "    print(\"Here are any *.pth files I can see:\", hits)\n",
        "    raise FileNotFoundError(\"Best weights (.pth) not found. Re-run training or fix path.\")\n",
        "\n",
        "print(\"Using checkpoint:\", best_path)\n"
      ],
      "metadata": {
        "colab": {
          "base_uri": "https://localhost:8080/"
        },
        "id": "_KRY-nMeO81G",
        "outputId": "7b2adfdb-a08c-4441-c555-ea9f99e4a1e6"
      },
      "execution_count": null,
      "outputs": [
        {
          "output_type": "stream",
          "name": "stdout",
          "text": [
            "Using checkpoint: /content/drive/MyDrive/finalyear_burn_models/mobilenetv2_burn_best.pth\n"
          ]
        }
      ]
    },
    {
      "cell_type": "code",
      "source": [
        "# --- Mount Drive if needed ---\n",
        "import os\n",
        "if not os.path.isdir('/content/drive'):\n",
        "    from google.colab import drive\n",
        "    drive.mount('/content/drive')\n",
        "\n",
        "# --- Paths ---\n",
        "from pathlib import Path\n",
        "WORK_DIR = Path('/content/finalyear_burn')\n",
        "MODEL_DIR = WORK_DIR / 'models'\n",
        "MODEL_DIR.mkdir(parents=True, exist_ok=True)\n",
        "\n",
        "# --- Find files we can use ---\n",
        "import glob\n",
        "def find_one(patterns):\n",
        "    for pat in patterns:\n",
        "        hits = glob.glob(pat, recursive=True)\n",
        "        if hits:\n",
        "            return hits[0], hits\n",
        "    return None, []\n",
        "\n",
        "pth_file, pth_hits = find_one([\n",
        "    str(MODEL_DIR / 'mobilenetv2_burn_best.pth'),\n",
        "    '/content/drive/MyDrive/**/mobilenetv2_burn_best.pth'\n",
        "])\n",
        "\n",
        "pt_file, pt_hits = find_one([\n",
        "    str(MODEL_DIR / 'burn_classifier_mobile.pt'),\n",
        "    '/content/drive/MyDrive/**/burn_classifier_mobile.pt'\n",
        "])\n",
        "\n",
        "print(\"Found .pth:\", pth_file)\n",
        "print(\"Found .pt :\", pt_file)\n",
        "\n",
        "# --- Export to Lite (.ptl) + labels.txt ---\n",
        "import torch\n",
        "import torch.nn as nn\n",
        "from torchvision import models\n",
        "from torch.utils.mobile_optimizer import optimize_for_mobile\n",
        "\n",
        "device = torch.device('cuda' if torch.cuda.is_available() else 'cpu')\n",
        "\n",
        "# your class order used in training\n",
        "class_names = ['1st degree burn', '2nd degree burn', '3rd degree burn']\n",
        "\n",
        "out_ptl = MODEL_DIR / 'burn_classifier_mobile.ptl'\n",
        "labels_txt = MODEL_DIR / 'labels.txt'\n",
        "labels_txt.write_text(\"\\n\".join(class_names), encoding='utf-8')\n",
        "\n",
        "if pth_file:\n",
        "    # Rebuild the exact model and load weights\n",
        "    model = models.mobilenet_v2(weights=models.MobileNet_V2_Weights.IMAGENET1K_V1)\n",
        "    in_features = model.classifier[1].in_features\n",
        "    model.classifier[1] = nn.Linear(in_features, len(class_names))\n",
        "    model.to(device).eval()\n",
        "\n",
        "    state = torch.load(pth_file, map_location=device)\n",
        "    model.load_state_dict(state)\n",
        "\n",
        "    example = torch.randn(1, 3, 224, 224, device=device)\n",
        "    ts = torch.jit.trace(model, example)\n",
        "    ts = optimize_for_mobile(ts)\n",
        "    ts._save_for_lite_interpreter(str(out_ptl))\n",
        "    print('Exported from .pth -> Lite .ptl:', out_ptl)\n",
        "\n",
        "elif pt_file:\n",
        "    # Convert existing TorchScript .pt into Lite .ptl\n",
        "    ts = torch.jit.load(pt_file, map_location='cpu')\n",
        "    ts = torch.jit.freeze(ts.eval())\n",
        "    ts = optimize_for_mobile(ts)\n",
        "    ts._save_for_lite_interpreter(str(out_ptl))\n",
        "    print('Converted TorchScript .pt -> Lite .ptl:', out_ptl)\n",
        "\n",
        "else:\n",
        "    print(\"Searched for these .pth locations:\")\n",
        "    print(pth_hits)\n",
        "    print(\"Searched for these .pt locations:\")\n",
        "    print(pt_hits)\n",
        "    raise FileNotFoundError(\n",
        "        \"No mobilenetv2_burn_best.pth or burn_classifier_mobile.pt found. \"\n",
        "        \"Re-run training (the cell that saves the best .pth), or upload one of these files to Drive.\"\n",
        "    )\n",
        "\n",
        "print('Labels saved to:', labels_txt)\n"
      ],
      "metadata": {
        "colab": {
          "base_uri": "https://localhost:8080/"
        },
        "id": "2cuNUo01fGhA",
        "outputId": "fabee013-0b73-4a54-de8e-c6ab293a9a42"
      },
      "execution_count": null,
      "outputs": [
        {
          "output_type": "stream",
          "name": "stdout",
          "text": [
            "Found .pth: /content/drive/MyDrive/finalyear_burn_models/mobilenetv2_burn_best.pth\n",
            "Found .pt : /content/drive/MyDrive/finalyear_burn_models/burn_classifier_mobile.pt\n",
            "Exported from .pth -> Lite .ptl: /content/finalyear_burn/models/burn_classifier_mobile.ptl\n",
            "Labels saved to: /content/finalyear_burn/models/labels.txt\n"
          ]
        }
      ]
    },
    {
      "cell_type": "code",
      "source": [
        "import shutil, os\n",
        "drive_models_dir = \"/content/drive/MyDrive/finalyear_burn_models\"\n",
        "os.makedirs(drive_models_dir, exist_ok=True)\n",
        "\n",
        "for f in [best_path, f\"{MODEL_DIR}/burn_classifier_mobile.pt\",\n",
        "          f\"{MODEL_DIR}/burn_classifier_mobile.ptl\",  # <-- add this\n",
        "          f\"{MODEL_DIR}/labels.txt\"]:\n",
        "    if os.path.exists(f):\n",
        "        shutil.copy2(f, drive_models_dir)\n",
        "\n",
        "print(\"Copied to:\", drive_models_dir)\n"
      ],
      "metadata": {
        "id": "SbPsLIi1MaK0"
      },
      "execution_count": null,
      "outputs": []
    },
    {
      "cell_type": "code",
      "source": [
        "from PIL import Image\n",
        "import torch\n",
        "from torchvision import transforms as T\n",
        "\n",
        "img_path = train_ds.samples[0][0]  # pick any image path\n",
        "img = Image.open(img_path).convert('RGB')\n",
        "\n",
        "infer_tfms = T.Compose([\n",
        "    T.Resize((224,224)),\n",
        "    T.PILToTensor(),\n",
        "    T.ConvertImageDtype(torch.float32),\n",
        "    T.Normalize(mean=[0.485,0.456,0.406], std=[0.229,0.224,0.225]),\n",
        "])\n",
        "\n",
        "x = infer_tfms(img).unsqueeze(0).to(device)\n",
        "with torch.no_grad():\n",
        "    out = model(x)\n",
        "    prob = torch.softmax(out, dim=1)[0].cpu().numpy()\n",
        "pred_idx = int(prob.argmax())\n",
        "print(\"Pred:\", class_names[pred_idx], \"| probs:\", {class_names[i]: float(prob[i]) for i in range(len(class_names))})\n"
      ],
      "metadata": {
        "colab": {
          "base_uri": "https://localhost:8080/"
        },
        "id": "ASbtKA90fOOH",
        "outputId": "8d167254-d090-4d95-d42f-0ee0e6be06a8"
      },
      "execution_count": null,
      "outputs": [
        {
          "output_type": "stream",
          "name": "stdout",
          "text": [
            "Pred: 1st degree burn | probs: {'1st degree burn': 0.9910016655921936, '2nd degree burn': 0.0085417740046978, '3rd degree burn': 0.00045660932664759457}\n"
          ]
        }
      ]
    },
    {
      "cell_type": "code",
      "source": [
        "# Ensure models exist then copy to Drive if you want a permanent copy\n",
        "import shutil, os\n",
        "\n",
        "drive_models_dir = \"/content/drive/MyDrive/finalyear_burn_models\"\n",
        "os.makedirs(drive_models_dir, exist_ok=True)\n",
        "\n",
        "for f in [best_path, f\"{MODEL_DIR}/burn_classifier_mobile.pt\", f\"{MODEL_DIR}/labels.txt\"]:\n",
        "    if os.path.exists(f):\n",
        "        shutil.copy2(f, drive_models_dir)\n",
        "\n",
        "print(\"Copied to:\", drive_models_dir)\n"
      ],
      "metadata": {
        "colab": {
          "base_uri": "https://localhost:8080/"
        },
        "id": "FSt9soUNfTrg",
        "outputId": "441c13f8-9cde-469a-e6d3-0660b7715d80"
      },
      "execution_count": null,
      "outputs": [
        {
          "output_type": "stream",
          "name": "stdout",
          "text": [
            "Copied to: /content/drive/MyDrive/finalyear_burn_models\n"
          ]
        }
      ]
    },
    {
      "cell_type": "code",
      "source": [
        "!pip -q install \"torch==1.12.1\" \"torchvision==0.13.1\"\n",
        "import torch, torchvision, sys; print(torch.__version__, torchvision.__version__)\n",
        "torch.backends.quantized.engine = 'qnnpack'\n"
      ],
      "metadata": {
        "colab": {
          "base_uri": "https://localhost:8080/"
        },
        "id": "i2lcx2i6Xz8x",
        "outputId": "44213421-7e03-4ee7-8e26-4729aaaf7bc7"
      },
      "execution_count": null,
      "outputs": [
        {
          "output_type": "stream",
          "name": "stdout",
          "text": [
            "\u001b[31mERROR: Could not find a version that satisfies the requirement torch==1.12.1 (from versions: 1.13.0, 1.13.1, 2.0.0, 2.0.1, 2.1.0, 2.1.1, 2.1.2, 2.2.0, 2.2.1, 2.2.2, 2.3.0, 2.3.1, 2.4.0, 2.4.1, 2.5.0, 2.5.1, 2.6.0, 2.7.0, 2.7.1, 2.8.0)\u001b[0m\u001b[31m\n",
            "\u001b[0m\u001b[31mERROR: No matching distribution found for torch==1.12.1\u001b[0m\u001b[31m\n",
            "\u001b[0m2.6.0+cu124 0.21.0+cu124\n"
          ]
        }
      ]
    },
    {
      "cell_type": "code",
      "source": [
        "from google.colab import files\n",
        "uploaded = files.upload()  # choose your weight file and labels.txt if you like\n",
        "list(uploaded.keys())\n"
      ],
      "metadata": {
        "colab": {
          "base_uri": "https://localhost:8080/",
          "height": 125
        },
        "id": "fzzQP8QKYL8U",
        "outputId": "e4fbb7d2-0745-4302-b7cc-8789e323201e"
      },
      "execution_count": null,
      "outputs": [
        {
          "output_type": "display_data",
          "data": {
            "text/plain": [
              "<IPython.core.display.HTML object>"
            ],
            "text/html": [
              "\n",
              "     <input type=\"file\" id=\"files-d833b387-5641-40cd-90fd-5f6dca439602\" name=\"files[]\" multiple disabled\n",
              "        style=\"border:none\" />\n",
              "     <output id=\"result-d833b387-5641-40cd-90fd-5f6dca439602\">\n",
              "      Upload widget is only available when the cell has been executed in the\n",
              "      current browser session. Please rerun this cell to enable.\n",
              "      </output>\n",
              "      <script>// Copyright 2017 Google LLC\n",
              "//\n",
              "// Licensed under the Apache License, Version 2.0 (the \"License\");\n",
              "// you may not use this file except in compliance with the License.\n",
              "// You may obtain a copy of the License at\n",
              "//\n",
              "//      http://www.apache.org/licenses/LICENSE-2.0\n",
              "//\n",
              "// Unless required by applicable law or agreed to in writing, software\n",
              "// distributed under the License is distributed on an \"AS IS\" BASIS,\n",
              "// WITHOUT WARRANTIES OR CONDITIONS OF ANY KIND, either express or implied.\n",
              "// See the License for the specific language governing permissions and\n",
              "// limitations under the License.\n",
              "\n",
              "/**\n",
              " * @fileoverview Helpers for google.colab Python module.\n",
              " */\n",
              "(function(scope) {\n",
              "function span(text, styleAttributes = {}) {\n",
              "  const element = document.createElement('span');\n",
              "  element.textContent = text;\n",
              "  for (const key of Object.keys(styleAttributes)) {\n",
              "    element.style[key] = styleAttributes[key];\n",
              "  }\n",
              "  return element;\n",
              "}\n",
              "\n",
              "// Max number of bytes which will be uploaded at a time.\n",
              "const MAX_PAYLOAD_SIZE = 100 * 1024;\n",
              "\n",
              "function _uploadFiles(inputId, outputId) {\n",
              "  const steps = uploadFilesStep(inputId, outputId);\n",
              "  const outputElement = document.getElementById(outputId);\n",
              "  // Cache steps on the outputElement to make it available for the next call\n",
              "  // to uploadFilesContinue from Python.\n",
              "  outputElement.steps = steps;\n",
              "\n",
              "  return _uploadFilesContinue(outputId);\n",
              "}\n",
              "\n",
              "// This is roughly an async generator (not supported in the browser yet),\n",
              "// where there are multiple asynchronous steps and the Python side is going\n",
              "// to poll for completion of each step.\n",
              "// This uses a Promise to block the python side on completion of each step,\n",
              "// then passes the result of the previous step as the input to the next step.\n",
              "function _uploadFilesContinue(outputId) {\n",
              "  const outputElement = document.getElementById(outputId);\n",
              "  const steps = outputElement.steps;\n",
              "\n",
              "  const next = steps.next(outputElement.lastPromiseValue);\n",
              "  return Promise.resolve(next.value.promise).then((value) => {\n",
              "    // Cache the last promise value to make it available to the next\n",
              "    // step of the generator.\n",
              "    outputElement.lastPromiseValue = value;\n",
              "    return next.value.response;\n",
              "  });\n",
              "}\n",
              "\n",
              "/**\n",
              " * Generator function which is called between each async step of the upload\n",
              " * process.\n",
              " * @param {string} inputId Element ID of the input file picker element.\n",
              " * @param {string} outputId Element ID of the output display.\n",
              " * @return {!Iterable<!Object>} Iterable of next steps.\n",
              " */\n",
              "function* uploadFilesStep(inputId, outputId) {\n",
              "  const inputElement = document.getElementById(inputId);\n",
              "  inputElement.disabled = false;\n",
              "\n",
              "  const outputElement = document.getElementById(outputId);\n",
              "  outputElement.innerHTML = '';\n",
              "\n",
              "  const pickedPromise = new Promise((resolve) => {\n",
              "    inputElement.addEventListener('change', (e) => {\n",
              "      resolve(e.target.files);\n",
              "    });\n",
              "  });\n",
              "\n",
              "  const cancel = document.createElement('button');\n",
              "  inputElement.parentElement.appendChild(cancel);\n",
              "  cancel.textContent = 'Cancel upload';\n",
              "  const cancelPromise = new Promise((resolve) => {\n",
              "    cancel.onclick = () => {\n",
              "      resolve(null);\n",
              "    };\n",
              "  });\n",
              "\n",
              "  // Wait for the user to pick the files.\n",
              "  const files = yield {\n",
              "    promise: Promise.race([pickedPromise, cancelPromise]),\n",
              "    response: {\n",
              "      action: 'starting',\n",
              "    }\n",
              "  };\n",
              "\n",
              "  cancel.remove();\n",
              "\n",
              "  // Disable the input element since further picks are not allowed.\n",
              "  inputElement.disabled = true;\n",
              "\n",
              "  if (!files) {\n",
              "    return {\n",
              "      response: {\n",
              "        action: 'complete',\n",
              "      }\n",
              "    };\n",
              "  }\n",
              "\n",
              "  for (const file of files) {\n",
              "    const li = document.createElement('li');\n",
              "    li.append(span(file.name, {fontWeight: 'bold'}));\n",
              "    li.append(span(\n",
              "        `(${file.type || 'n/a'}) - ${file.size} bytes, ` +\n",
              "        `last modified: ${\n",
              "            file.lastModifiedDate ? file.lastModifiedDate.toLocaleDateString() :\n",
              "                                    'n/a'} - `));\n",
              "    const percent = span('0% done');\n",
              "    li.appendChild(percent);\n",
              "\n",
              "    outputElement.appendChild(li);\n",
              "\n",
              "    const fileDataPromise = new Promise((resolve) => {\n",
              "      const reader = new FileReader();\n",
              "      reader.onload = (e) => {\n",
              "        resolve(e.target.result);\n",
              "      };\n",
              "      reader.readAsArrayBuffer(file);\n",
              "    });\n",
              "    // Wait for the data to be ready.\n",
              "    let fileData = yield {\n",
              "      promise: fileDataPromise,\n",
              "      response: {\n",
              "        action: 'continue',\n",
              "      }\n",
              "    };\n",
              "\n",
              "    // Use a chunked sending to avoid message size limits. See b/62115660.\n",
              "    let position = 0;\n",
              "    do {\n",
              "      const length = Math.min(fileData.byteLength - position, MAX_PAYLOAD_SIZE);\n",
              "      const chunk = new Uint8Array(fileData, position, length);\n",
              "      position += length;\n",
              "\n",
              "      const base64 = btoa(String.fromCharCode.apply(null, chunk));\n",
              "      yield {\n",
              "        response: {\n",
              "          action: 'append',\n",
              "          file: file.name,\n",
              "          data: base64,\n",
              "        },\n",
              "      };\n",
              "\n",
              "      let percentDone = fileData.byteLength === 0 ?\n",
              "          100 :\n",
              "          Math.round((position / fileData.byteLength) * 100);\n",
              "      percent.textContent = `${percentDone}% done`;\n",
              "\n",
              "    } while (position < fileData.byteLength);\n",
              "  }\n",
              "\n",
              "  // All done.\n",
              "  yield {\n",
              "    response: {\n",
              "      action: 'complete',\n",
              "    }\n",
              "  };\n",
              "}\n",
              "\n",
              "scope.google = scope.google || {};\n",
              "scope.google.colab = scope.google.colab || {};\n",
              "scope.google.colab._files = {\n",
              "  _uploadFiles,\n",
              "  _uploadFilesContinue,\n",
              "};\n",
              "})(self);\n",
              "</script> "
            ]
          },
          "metadata": {}
        },
        {
          "output_type": "stream",
          "name": "stdout",
          "text": [
            "Saving burn_classifier_mobile.pt to burn_classifier_mobile.pt\n",
            "Saving labels.txt to labels.txt\n"
          ]
        },
        {
          "output_type": "execute_result",
          "data": {
            "text/plain": [
              "['burn_classifier_mobile.pt', 'labels.txt']"
            ]
          },
          "metadata": {},
          "execution_count": 8
        }
      ]
    },
    {
      "cell_type": "code",
      "source": [
        "import torch\n",
        "from torch.utils.mobile_optimizer import optimize_for_mobile\n",
        "\n",
        "IN_PT  = \"burn_classifier_mobile.pt\"   # <-- rename to your .pt\n",
        "OUT_TS = \"burn_classifier_cpu.pt\"\n",
        "OUT_LITE = \"burn_classifier_mobile.ptl\"\n",
        "\n",
        "m = torch.jit.load(IN_PT, map_location=\"cpu\").eval()\n",
        "m = torch.jit.freeze(m)\n",
        "m.save(OUT_TS)\n",
        "opt = optimize_for_mobile(m)\n",
        "opt._save_for_lite_interpreter(OUT_LITE)\n",
        "print(\"Wrote:\", OUT_TS, OUT_LITE)\n"
      ],
      "metadata": {
        "colab": {
          "base_uri": "https://localhost:8080/"
        },
        "id": "CHZMvROBaj5F",
        "outputId": "dd11ec11-5a3c-4dad-acbe-614435b1866d"
      },
      "execution_count": null,
      "outputs": [
        {
          "output_type": "stream",
          "name": "stdout",
          "text": [
            "Wrote: burn_classifier_cpu.pt burn_classifier_mobile.ptl\n"
          ]
        }
      ]
    },
    {
      "cell_type": "code",
      "source": [
        "import torch\n",
        "ts = torch.jit.load(\"burn_classifier_cpu.pt\", map_location=\"cpu\").eval()\n",
        "with torch.no_grad():\n",
        "    y = ts(torch.rand(1,3,224,224))\n",
        "print(\"Logits shape:\", tuple(y.shape))\n"
      ],
      "metadata": {
        "colab": {
          "base_uri": "https://localhost:8080/"
        },
        "id": "jkIiuu08aqv3",
        "outputId": "855e8010-2a14-475a-d03f-78d942d07ec3"
      },
      "execution_count": null,
      "outputs": [
        {
          "output_type": "stream",
          "name": "stdout",
          "text": [
            "Logits shape: (1, 3)\n"
          ]
        }
      ]
    },
    {
      "cell_type": "code",
      "source": [
        "from google.colab import files\n",
        "files.download(\"burn_classifier_mobile.ptl\")\n"
      ],
      "metadata": {
        "colab": {
          "base_uri": "https://localhost:8080/",
          "height": 17
        },
        "id": "ZcGopxEka7TV",
        "outputId": "e3b5df07-729c-4337-ac0b-16d38d36b611"
      },
      "execution_count": null,
      "outputs": [
        {
          "output_type": "display_data",
          "data": {
            "text/plain": [
              "<IPython.core.display.Javascript object>"
            ],
            "application/javascript": [
              "\n",
              "    async function download(id, filename, size) {\n",
              "      if (!google.colab.kernel.accessAllowed) {\n",
              "        return;\n",
              "      }\n",
              "      const div = document.createElement('div');\n",
              "      const label = document.createElement('label');\n",
              "      label.textContent = `Downloading \"${filename}\": `;\n",
              "      div.appendChild(label);\n",
              "      const progress = document.createElement('progress');\n",
              "      progress.max = size;\n",
              "      div.appendChild(progress);\n",
              "      document.body.appendChild(div);\n",
              "\n",
              "      const buffers = [];\n",
              "      let downloaded = 0;\n",
              "\n",
              "      const channel = await google.colab.kernel.comms.open(id);\n",
              "      // Send a message to notify the kernel that we're ready.\n",
              "      channel.send({})\n",
              "\n",
              "      for await (const message of channel.messages) {\n",
              "        // Send a message to notify the kernel that we're ready.\n",
              "        channel.send({})\n",
              "        if (message.buffers) {\n",
              "          for (const buffer of message.buffers) {\n",
              "            buffers.push(buffer);\n",
              "            downloaded += buffer.byteLength;\n",
              "            progress.value = downloaded;\n",
              "          }\n",
              "        }\n",
              "      }\n",
              "      const blob = new Blob(buffers, {type: 'application/binary'});\n",
              "      const a = document.createElement('a');\n",
              "      a.href = window.URL.createObjectURL(blob);\n",
              "      a.download = filename;\n",
              "      div.appendChild(a);\n",
              "      a.click();\n",
              "      div.remove();\n",
              "    }\n",
              "  "
            ]
          },
          "metadata": {}
        },
        {
          "output_type": "display_data",
          "data": {
            "text/plain": [
              "<IPython.core.display.Javascript object>"
            ],
            "application/javascript": [
              "download(\"download_f6725412-74e2-4362-a269-228d868f831e\", \"burn_classifier_mobile.ptl\", 8893779)"
            ]
          },
          "metadata": {}
        }
      ]
    }
  ]
}